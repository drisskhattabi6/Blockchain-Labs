{
 "cells": [
  {
   "cell_type": "markdown",
   "id": "431f3bf8-241a-4ab3-9dd0-7cb1e6ce6b50",
   "metadata": {},
   "source": [
    "# EX3 : Proof Of Stake VS Proof of Work\n",
    "\n",
    "### Idriss Khattabi"
   ]
  },
  {
   "cell_type": "code",
   "execution_count": 1,
   "id": "f42d0ef8-47ed-4b09-ac38-d5307a4268c9",
   "metadata": {},
   "outputs": [],
   "source": [
    "import hashlib, time, random"
   ]
  },
  {
   "cell_type": "markdown",
   "id": "ea5c740d-0dc6-4cb9-aa0f-06d689196b43",
   "metadata": {},
   "source": [
    "### Block Class :"
   ]
  },
  {
   "cell_type": "code",
   "execution_count": 2,
   "id": "bfa2978a-a91f-442f-b8a3-260c833be145",
   "metadata": {},
   "outputs": [],
   "source": [
    "class Block:\n",
    "    def __init__(self, index, previous_hash, data):\n",
    "        self.index = index\n",
    "        self.timestamp = time.time()\n",
    "        self.data = data\n",
    "        self.previous_hash = previous_hash\n",
    "        self.nonce = 0 \n",
    "        self.hash = self.calculate_hash()\n",
    "\n",
    "    # calculate the block's hash\n",
    "    def calculate_hash(self):\n",
    "        block_info = f\"{self.index}{self.timestamp}{self.data}{self.previous_hash}{self.nonce}\".encode()\n",
    "        return hashlib.sha256(block_info).hexdigest()\n",
    "\n",
    "    def __str__(self):\n",
    "        return f\"Block {self.index} [Hash: {self.hash}, Data: {self.data}, Previous Hash: {self.previous_hash}, Nonce: {self.nonce}]\""
   ]
  },
  {
   "cell_type": "markdown",
   "id": "d0fb53cb-433c-44ec-8417-02b335ec31cd",
   "metadata": {},
   "source": [
    "### Proof Of Work :"
   ]
  },
  {
   "cell_type": "code",
   "execution_count": 4,
   "id": "ee247ea5-7ded-469d-94c0-1b9af3f490b9",
   "metadata": {},
   "outputs": [],
   "source": [
    "class PoW:\n",
    "    def __init__(self, difficulty):\n",
    "        self.chain = [self.create_genesis_block()]\n",
    "        self.difficulty = difficulty\n",
    "\n",
    "    def create_genesis_block(self):\n",
    "        return Block(0, \"0\", \"First Block\")\n",
    "\n",
    "    def get_latest_block(self):\n",
    "        return self.chain[-1]\n",
    "\n",
    "    def add_block(self, new_block):\n",
    "        new_block.previous_hash = self.get_latest_block().hash\n",
    "        new_block.hash = self.mine_block(new_block)\n",
    "        self.chain.append(new_block)\n",
    "\n",
    "    def mine_block(self, block):\n",
    "        \"\"\"Implements the PoW algorithm by repeatedly calculating the block's hash until it matches the difficulty target\"\"\"\n",
    "        \n",
    "        target = \"0\" * self.difficulty\n",
    "        start_time = time.time()\n",
    "        print(f\"Mining block with difficulty {self.difficulty}...\")\n",
    "\n",
    "        while not block.hash.startswith(target):\n",
    "            block.nonce += 1\n",
    "            block.hash = block.calculate_hash()\n",
    "\n",
    "        end_time = time.time()\n",
    "        print(f\"Block mined: {block.hash}\")\n",
    "        print(f\"Time taken for PoW: {end_time - start_time} seconds\\n\")\n",
    "        return block.hash"
   ]
  },
  {
   "cell_type": "markdown",
   "id": "1e39a060-1c75-4605-876f-893bfc79b583",
   "metadata": {},
   "source": [
    "In **Proof of Work (PoW)**, participants (miners) compete to solve a difficult puzzle that requires finding a \"nonce\" — a number which, when combined with block data, creates a hash (a unique digital fingerprint) that meets a specific pattern, often starting with a certain number of zeros. This pattern defines the \"difficulty level,\" and the higher it is, the harder the puzzle.\n",
    "\n",
    "**The process**:\n",
    "\n",
    "- Miners try different nonces to generate a hash matching the required pattern.\n",
    "- Once a miner finds the correct hash, the solution is easily verified and added to the blockchain.\n",
    "- This mined block becomes part of the chain, and the process restarts for the next block.\n",
    "\n",
    "---\n",
    "### Proof Of Stake :"
   ]
  },
  {
   "cell_type": "code",
   "execution_count": 5,
   "id": "419c54ae-d76e-4f11-86ec-3fd59978d2f9",
   "metadata": {},
   "outputs": [],
   "source": [
    "class Validator:\n",
    "    def __init__(self, name, stake):\n",
    "        self.name = name\n",
    "        self.stake = stake"
   ]
  },
  {
   "cell_type": "code",
   "execution_count": 6,
   "id": "098ad8a7-f4d0-4fc8-af44-37607e7a9bec",
   "metadata": {},
   "outputs": [],
   "source": [
    "class PoS:\n",
    "    def __init__(self, validators):\n",
    "        self.chain = [self.create_genesis_block()]\n",
    "        self.validators = validators\n",
    "\n",
    "    def create_genesis_block(self):\n",
    "        return Block(0, \"0\", \"First Block\")\n",
    "\n",
    "    def get_latest_block(self):\n",
    "        return self.chain[-1]\n",
    "\n",
    "    def select_validator(self):\n",
    "        \"\"\"Selects a validator based on their stake.\n",
    "        A random number between 0 and the total stake is generated,\n",
    "        and validators are sequentially chosen based on their stake proportion.\"\"\"\n",
    "        \n",
    "        total_stake = sum([validator.stake for validator in self.validators])\n",
    "        rand = random.uniform(0, total_stake)\n",
    "        current = 0\n",
    "        for validator in self.validators:\n",
    "            current += validator.stake\n",
    "            if current > rand:\n",
    "                return validator.name\n",
    "\n",
    "    def add_block(self, new_block):\n",
    "        start_time = time.time()\n",
    "        selected_validator = self.select_validator()\n",
    "        new_block.previous_hash = self.get_latest_block().hash\n",
    "        new_block.hash = new_block.calculate_hash()\n",
    "\n",
    "        end_time = time.time()\n",
    "        print(f\"Block validated by {selected_validator} with PoS\")\n",
    "        print(f\"Time taken for PoS: {end_time - start_time} seconds\\n\")\n",
    "        self.chain.append(new_block)"
   ]
  },
  {
   "cell_type": "markdown",
   "id": "08abe0ee-e576-43e5-b86a-480cd779a23e",
   "metadata": {},
   "source": [
    "In **Proof of Stake (PoS)**, participants (validators) are selected to add new blocks to the blockchain based on the amount of cryptocurrency they hold, known as their \"stake.\" Unlike Proof of Work (PoW), PoS does not require heavy computations, making it more energy-efficient.\n",
    "\n",
    "**Process in Brief**:\n",
    "- Validators: Each validator holds a stake, representing their commitment to the network.\n",
    "- Selection: A validator is selected based on their stake proportion. In this code, a random value is generated, and validators are chosen according to their stake — higher stake means a higher probability of being chosen.\n",
    "- Block Addition: The chosen validator validates the new block, calculating its hash based on previous data. The block is then added to the blockchain.\n",
    "\n",
    "---\n",
    "### Test :"
   ]
  },
  {
   "cell_type": "code",
   "execution_count": 9,
   "id": "4e33b952-0f22-461a-8101-2bed96510983",
   "metadata": {},
   "outputs": [],
   "source": [
    "def compare_pow_and_pos():\n",
    "\n",
    "    print(\"===== Proof of Work (PoW) =====\")\n",
    "    pow_blockchain = PoW(difficulty=4)\n",
    "    pow_blockchain.add_block(Block(1, pow_blockchain.get_latest_block().hash, \"This is Block 1 - PoW\"))\n",
    "    pow_blockchain.add_block(Block(2, pow_blockchain.get_latest_block().hash, \"This is Block 2 - PoW\"))\n",
    "    for block in pow_blockchain.chain :\n",
    "        print(block)\n",
    "\n",
    "    print(\"\\n===== Proof of Stake (PoS) =====\")\n",
    "    validators = [\n",
    "        Validator(\"Idriss\", stake=10),\n",
    "        Validator(\"Mohammed\", stake=20),\n",
    "        Validator(\"Hiba\", stake=30)\n",
    "    ]\n",
    "    pos_blockchain = PoS(validators=validators)\n",
    "    pos_blockchain.add_block(Block(1, pos_blockchain.get_latest_block().hash, \"This is Block 1 - PoS\"))\n",
    "    pos_blockchain.add_block(Block(2, pos_blockchain.get_latest_block().hash, \"This is Block 2 - PoS\"))\n",
    "    for block in pos_blockchain.chain :\n",
    "        print(block)"
   ]
  },
  {
   "cell_type": "code",
   "execution_count": 10,
   "id": "1f8366f3-11fb-40df-bf3c-ca40b7dd4def",
   "metadata": {
    "tags": []
   },
   "outputs": [
    {
     "name": "stdout",
     "output_type": "stream",
     "text": [
      "===== Proof of Work (PoW) =====\n",
      "Mining block with difficulty 4...\n",
      "Block mined: 00003e3c52517746588928917294f9687a7ffe8af43924c1a4ff7ff4c3249c57\n",
      "Time taken for PoW: 0.16894173622131348 seconds\n",
      "\n",
      "Mining block with difficulty 4...\n",
      "Block mined: 000040aead2d1fd326493a3a779541b10b6397c606ead0d7b041e5c7efd093b7\n",
      "Time taken for PoW: 0.1119987964630127 seconds\n",
      "\n",
      "Block 0 [Hash: 1a75dfa6e46131a42cff568505393ef43181b4ab297bbc230552ec10bf3fce2b, Data: First Block, Previous Hash: 0, Nonce: 0]\n",
      "Block 1 [Hash: 00003e3c52517746588928917294f9687a7ffe8af43924c1a4ff7ff4c3249c57, Data: This is Block 1 - PoW, Previous Hash: 1a75dfa6e46131a42cff568505393ef43181b4ab297bbc230552ec10bf3fce2b, Nonce: 61731]\n",
      "Block 2 [Hash: 000040aead2d1fd326493a3a779541b10b6397c606ead0d7b041e5c7efd093b7, Data: This is Block 2 - PoW, Previous Hash: 00003e3c52517746588928917294f9687a7ffe8af43924c1a4ff7ff4c3249c57, Nonce: 41522]\n",
      "\n",
      "===== Proof of Stake (PoS) =====\n",
      "Block validated by Idriss with PoS\n",
      "Time taken for PoS: 0.0 seconds\n",
      "\n",
      "Block validated by Idriss with PoS\n",
      "Time taken for PoS: 0.0 seconds\n",
      "\n",
      "Block 0 [Hash: 9b5b869dbb059c08a353f0aef7e3f093b0388614b0da292eb10a5449e5e6b8db, Data: First Block, Previous Hash: 0, Nonce: 0]\n",
      "Block 1 [Hash: 800139c28abd0b3b195df80b8e11f65e018a1452924d2e7bfe046233c3fb21d8, Data: This is Block 1 - PoS, Previous Hash: 9b5b869dbb059c08a353f0aef7e3f093b0388614b0da292eb10a5449e5e6b8db, Nonce: 0]\n",
      "Block 2 [Hash: 7089cab87b14df84b5bb370a9e7ac1d5151cc3eb5e2f6e182f8feb83fb837945, Data: This is Block 2 - PoS, Previous Hash: 800139c28abd0b3b195df80b8e11f65e018a1452924d2e7bfe046233c3fb21d8, Nonce: 0]\n"
     ]
    }
   ],
   "source": [
    "compare_pow_and_pos()"
   ]
  },
  {
   "cell_type": "markdown",
   "id": "d03217a8-b065-4180-a492-9e8978744d7c",
   "metadata": {},
   "source": [
    "### Result :\n",
    "\n",
    "In the output, the differences between Proof of Work (PoW) and Proof of Stake (PoS) are highlighted:\n",
    "\n",
    "#### Proof of Work (PoW)\n",
    "- **Mining Process**: For each block, PoW attempts multiple hashes by adjusting the nonce until it finds a hash that matches the difficulty level (starting with four zeros).\n",
    "- **Time Taken**: You can see the time taken for each PoW block (e.g., 0.37 seconds and 0.51 seconds) which reflects the computational work required to meet the difficulty target.\n",
    "- **Hash Output**: Each mined block has a unique hash that fulfills the difficulty criteria.\n",
    "\n",
    "#### Proof of Stake (PoS)\n",
    "- **Validation Process**: Instead of mining, PoS selects a validator based on their stake. Here, \"Mohammed\" and \"Hiba\" are chosen to validate the blocks based on their stakes.\n",
    "- **Time Taken**: The time for PoS is negligible (0.0 seconds), showing the efficiency of block addition as it skips the complex computations of PoW.\n",
    "- **Validator Output**: The output specifies which validator approved each block.\n",
    "\n",
    "#### Key Takeaways\n",
    "- **Efficiency**: PoS is more time-efficient as it doesn’t require computational effort to solve a puzzle, unlike PoW.\n",
    "- **Energy Usage**: PoS is energy-friendly since it doesn’t rely on extensive computations.\n",
    "- **Security Model**: PoW relies on computational power, while PoS relies on validators’ stakes to maintain blockchain integrity."
   ]
  }
 ],
 "metadata": {
  "kernelspec": {
   "display_name": "Python 3",
   "language": "python",
   "name": "python3"
  },
  "language_info": {
   "codemirror_mode": {
    "name": "ipython",
    "version": 3
   },
   "file_extension": ".py",
   "mimetype": "text/x-python",
   "name": "python",
   "nbconvert_exporter": "python",
   "pygments_lexer": "ipython3",
   "version": "3.12.4"
  }
 },
 "nbformat": 4,
 "nbformat_minor": 5
}
