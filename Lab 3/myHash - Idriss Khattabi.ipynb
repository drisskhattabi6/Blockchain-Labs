{
 "cells": [
  {
   "cell_type": "markdown",
   "id": "c738d661-ee0c-40cf-844c-e9bd02aae71e",
   "metadata": {},
   "source": [
    "# Create a Hash Function:\n",
    "## Idriss Khattabi"
   ]
  },
  {
   "cell_type": "code",
   "execution_count": 1,
   "id": "8a6e8b6f-3da0-4cc4-b744-f76ea47af5ef",
   "metadata": {
    "tags": []
   },
   "outputs": [],
   "source": [
    "def hash10(text : str) -> str :\n",
    "    hash = 0\n",
    "    fixed_length = 10\n",
    "    \n",
    "    for index, char in enumerate(text) :\n",
    "        print('-> Char : ', char, ' - ASCII Char : ', ord(char),' - Position : ', (index+1), ' - Multiplication :', ord(char)*(index+1))\n",
    "        hash += ord(char)*(index+1)\n",
    "    print('Total of Multiplication : ', hash)\n",
    "    hash = str(hash)\n",
    "    hash = [chr(int(char)+33) for char in hash]\n",
    "    print('List of Chars : ', hash)\n",
    "    hash = ''.join(hash)\n",
    "    print('Join the chars : ', hash)\n",
    "    \n",
    "    print('Complate text with 0 to reach 10 chars  : ', hash)\n",
    "    return hash.ljust(fixed_length, '0')"
   ]
  },
  {
   "cell_type": "code",
   "execution_count": 2,
   "id": "11b95d20-43f5-4e7a-ba1c-1c2f33ef48e2",
   "metadata": {
    "tags": []
   },
   "outputs": [
    {
     "name": "stdout",
     "output_type": "stream",
     "text": [
      "-> Char :  i  - ASCII Char :  105  - Position :  1  - Multiplication : 105\n",
      "-> Char :  d  - ASCII Char :  100  - Position :  2  - Multiplication : 200\n",
      "-> Char :  r  - ASCII Char :  114  - Position :  3  - Multiplication : 342\n",
      "-> Char :  i  - ASCII Char :  105  - Position :  4  - Multiplication : 420\n",
      "-> Char :  s  - ASCII Char :  115  - Position :  5  - Multiplication : 575\n",
      "-> Char :  s  - ASCII Char :  115  - Position :  6  - Multiplication : 690\n",
      "Total of Multiplication :  2332\n",
      "List of Chars :  ['#', '$', '$', '#']\n",
      "Join the chars :  #$$#\n",
      "Complate text with 0 to reach 10 chars  :  #$$#\n"
     ]
    },
    {
     "data": {
      "text/plain": [
       "'#$$#000000'"
      ]
     },
     "execution_count": 2,
     "metadata": {},
     "output_type": "execute_result"
    }
   ],
   "source": [
    "hash10('idriss')"
   ]
  },
  {
   "cell_type": "code",
   "execution_count": 3,
   "id": "5a2213b5-76b5-4ce9-9bf2-7f1bd7136eca",
   "metadata": {
    "tags": []
   },
   "outputs": [
    {
     "name": "stdout",
     "output_type": "stream",
     "text": [
      "-> Char :  q  - ASCII Char :  113  - Position :  1  - Multiplication : 113\n",
      "-> Char :  w  - ASCII Char :  119  - Position :  2  - Multiplication : 238\n",
      "-> Char :  e  - ASCII Char :  101  - Position :  3  - Multiplication : 303\n",
      "-> Char :  r  - ASCII Char :  114  - Position :  4  - Multiplication : 456\n",
      "-> Char :  t  - ASCII Char :  116  - Position :  5  - Multiplication : 580\n",
      "-> Char :  y  - ASCII Char :  121  - Position :  6  - Multiplication : 726\n",
      "Total of Multiplication :  2416\n",
      "List of Chars :  ['#', '%', '\"', \"'\"]\n",
      "Join the chars :  #%\"'\n",
      "Complate text with 0 to reach 10 chars  :  #%\"'\n"
     ]
    },
    {
     "data": {
      "text/plain": [
       "'#%\"\\'000000'"
      ]
     },
     "execution_count": 3,
     "metadata": {},
     "output_type": "execute_result"
    }
   ],
   "source": [
    "hash10('qwerty')"
   ]
  },
  {
   "cell_type": "code",
   "execution_count": 4,
   "id": "21b041c9-a00e-4a63-ad7f-6408fbd22c39",
   "metadata": {
    "tags": []
   },
   "outputs": [
    {
     "name": "stdout",
     "output_type": "stream",
     "text": [
      "-> Char :  i  - ASCII Char :  105  - Position :  1  - Multiplication : 105\n",
      "-> Char :  d  - ASCII Char :  100  - Position :  2  - Multiplication : 200\n",
      "-> Char :  r  - ASCII Char :  114  - Position :  3  - Multiplication : 342\n",
      "-> Char :  i  - ASCII Char :  105  - Position :  4  - Multiplication : 420\n",
      "-> Char :  s  - ASCII Char :  115  - Position :  5  - Multiplication : 575\n",
      "-> Char :  s  - ASCII Char :  115  - Position :  6  - Multiplication : 690\n",
      "-> Char :  -  - ASCII Char :  45  - Position :  7  - Multiplication : 315\n",
      "-> Char :  k  - ASCII Char :  107  - Position :  8  - Multiplication : 856\n",
      "-> Char :  h  - ASCII Char :  104  - Position :  9  - Multiplication : 936\n",
      "-> Char :  a  - ASCII Char :  97  - Position :  10  - Multiplication : 970\n",
      "-> Char :  t  - ASCII Char :  116  - Position :  11  - Multiplication : 1276\n",
      "-> Char :  t  - ASCII Char :  116  - Position :  12  - Multiplication : 1392\n",
      "-> Char :  a  - ASCII Char :  97  - Position :  13  - Multiplication : 1261\n",
      "-> Char :  b  - ASCII Char :  98  - Position :  14  - Multiplication : 1372\n",
      "-> Char :  i  - ASCII Char :  105  - Position :  15  - Multiplication : 1575\n",
      "-> Char :  -  - ASCII Char :  45  - Position :  16  - Multiplication : 720\n",
      "-> Char :  f  - ASCII Char :  102  - Position :  17  - Multiplication : 1734\n",
      "-> Char :  s  - ASCII Char :  115  - Position :  18  - Multiplication : 2070\n",
      "-> Char :  t  - ASCII Char :  116  - Position :  19  - Multiplication : 2204\n",
      "-> Char :  -  - ASCII Char :  45  - Position :  20  - Multiplication : 900\n",
      "-> Char :  I  - ASCII Char :  73  - Position :  21  - Multiplication : 1533\n",
      "-> Char :  A  - ASCII Char :  65  - Position :  22  - Multiplication : 1430\n",
      "-> Char :  S  - ASCII Char :  83  - Position :  23  - Multiplication : 1909\n",
      "-> Char :  D  - ASCII Char :  68  - Position :  24  - Multiplication : 1632\n",
      "Total of Multiplication :  26417\n",
      "List of Chars :  ['#', \"'\", '%', '\"', '(']\n",
      "Join the chars :  #'%\"(\n",
      "Complate text with 0 to reach 10 chars  :  #'%\"(\n"
     ]
    },
    {
     "data": {
      "text/plain": [
       "'#\\'%\"(00000'"
      ]
     },
     "execution_count": 4,
     "metadata": {},
     "output_type": "execute_result"
    }
   ],
   "source": [
    "hash10('idriss-khattabi-fst-IASD')"
   ]
  }
 ],
 "metadata": {
  "kernelspec": {
   "display_name": "Python 3 (ipykernel)",
   "language": "python",
   "name": "python3"
  },
  "language_info": {
   "codemirror_mode": {
    "name": "ipython",
    "version": 3
   },
   "file_extension": ".py",
   "mimetype": "text/x-python",
   "name": "python",
   "nbconvert_exporter": "python",
   "pygments_lexer": "ipython3",
   "version": "3.12.4"
  }
 },
 "nbformat": 4,
 "nbformat_minor": 5
}
